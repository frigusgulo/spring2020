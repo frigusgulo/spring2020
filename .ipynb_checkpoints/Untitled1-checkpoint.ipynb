{
 "cells": [
  {
   "cell_type": "code",
   "execution_count": 1,
   "metadata": {},
   "outputs": [],
   "source": [
    "import torch\n",
    "import torch.nn as nn\n",
    "from torch.nn import Parameter\n",
    "from torch.utils.data import Dataset, DataLoader\n",
    "import numpy as np\n",
    "import matplotlib.pyplot as plt"
   ]
  },
  {
   "cell_type": "code",
   "execution_count": null,
   "metadata": {},
   "outputs": [],
   "source": [
    "file = open('clean_shakespeare.txt','r')\n",
    "text = file.read()\n",
    "letters = 'abcdefghijklmnopqrstuvwxyz '\n",
    "# one hot encode characters\n",
    "char_dict = {}\n",
    "for i,char in enumerate(letters):\n",
    "    vec = torch.zeros(27)\n",
    "    vec[i] += 1\n",
    "    char_dict[char] = vec\n",
    "\n",
    "total_data = 40000\n",
    "\n",
    "D = []\n",
    "for i in range(total_data):\n",
    "    x = text[i]\n",
    "    y = text[i+1]\n",
    "    z = text[i+2]\n",
    "    w = text[i+3]\n",
    "    D.append((char_dict[x],char_dict[y]))\n",
    "\n",
    "\n",
    "featsz, hiddensz = 27, 64\n"
   ]
  }
 ],
 "metadata": {
  "kernelspec": {
   "display_name": "Python 3",
   "language": "python",
   "name": "python3"
  },
  "language_info": {
   "codemirror_mode": {
    "name": "ipython",
    "version": 3
   },
   "file_extension": ".py",
   "mimetype": "text/x-python",
   "name": "python",
   "nbconvert_exporter": "python",
   "pygments_lexer": "ipython3",
   "version": "3.7.3"
  }
 },
 "nbformat": 4,
 "nbformat_minor": 2
}
